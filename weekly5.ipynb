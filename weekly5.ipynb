{
 "cells": [
  {
   "cell_type": "markdown",
   "id": "f92e4857-3f9f-48aa-a598-643871232cbc",
   "metadata": {},
   "source": [
    "<h2> Working with real-world data </h2>\n",
    "\n",
    "<h3> Introduction </h3>\n",
    "\n",
    "Now that we've introduced the big computational tools, it's time to start using them to analyze some real-world data sets. In this week's notebook you'll analyze some summary statistics for a data set, understand how they differ, and think about what they each measure.\n",
    "\n",
    "This week, we'll work with GDP (gross domestic product) data, which gives a measurement of the total economic activity of a region. The source we'll use is [Our World in Data](https://ourworldindata.org/grapher/national-gdp-constant-usd-wb?tab=table&time=latest), which also has [really nice interactive charts](https://ourworldindata.org/grapher/national-gdp-constant-usd-wb). I've cleaned the data set very slightly to remove empty data; the raw data is in `gdp_data.csv` and we can import it into Python:\n"
   ]
  },
  {
   "cell_type": "code",
   "execution_count": 71,
   "id": "ed8127c0-0b45-47f2-ae6a-cd58af0bda36",
   "metadata": {},
   "outputs": [],
   "source": [
    "# Open the file and import the data\n",
    "with open('gdp_data.csv') as f:\n",
    "    raw_data = f.readlines()\n",
    "\n",
    "# Reformat into a usable thing. Format is {country: GDP}\n",
    "data = {}\n",
    "for row in raw_data[1:]:\n",
    "    country = row.split(',')[0]\n",
    "    # This line looks scary, but it's just to strip out a bunch of commas and format as a number\n",
    "    # Feel free to ignore what it's doing!\n",
    "    gdp = float(row.split(',')[1][:-1]) \n",
    "    \n",
    "    data[country] = gdp\n",
    "    \n",
    "countries = list(data.keys())\n",
    "gdps = list(data.values())\n",
    "sorted_gpds = sorted(gdps)\n",
    "\n",
    "# Uncomment this line to print the raw data:\n",
    "# print(data)\n",
    "\n",
    "# Uncomment this line to print the list of countries:\n",
    "# print(countries)"
   ]
  },
  {
   "cell_type": "markdown",
   "id": "a12be3ef-5610-41cf-83a0-fb25f41815ef",
   "metadata": {},
   "source": [
    "For example, the GDP of the US in 2021 was estimated as nearly 21 trillion dollars, while the GDP of Nauru is roughly about 92 million dollars:"
   ]
  },
  {
   "cell_type": "code",
   "execution_count": 56,
   "id": "053be399-ca62-41de-b49f-7e992e475ea8",
   "metadata": {},
   "outputs": [
    {
     "name": "stdout",
     "output_type": "stream",
     "text": [
      "20529460000000.0\n",
      "92009870.0\n"
     ]
    }
   ],
   "source": [
    "print(data['United States'])\n",
    "print(data['Nauru'])"
   ]
  },
  {
   "cell_type": "markdown",
   "id": "de49cb93-59d1-42e0-82e8-779b5185b726",
   "metadata": {},
   "source": [
    "There are 205 regions listed in the data set; many are countries, but some are regions within countries (such as Greenland). The countries range in size from China and the United States (each with a GDP above 15 trillion dollars) to Tuvalu, Nauru, and Kiribati (all under 200 million dollars). The list `sorted_gdps` contains all the GDPs listed in increasing order.\n",
    "\n",
    "<h3> Questions </h3>\n",
    "\n",
    "* Find the mean GDP of the regions represented in this data set. Which country is closest to the mean?\n",
    "\n",
    "* Find the 10th, 50th, and 90th percentiles of GDPs for the regions represented in this data set. Which country appears at each of these percentiles?\n",
    "\n",
    "* An *outlier* is a [data point that differs significantly from other observations](https://en.wikipedia.org/wiki/Outlier). Does this data set have an outliers?\n",
    "\n",
    "* The mean and the median differ by a factor of over 10. Why is this? Which one do you think is a better representation of a \"typical\" country?\n",
    "\n",
    "*Using the data hint*: You can open the file `gdp_data.csv` to see all the data in a nice format that's sorted in alphabetical order."
   ]
  },
  {
   "cell_type": "markdown",
   "id": "a3debf23-219f-4376-913b-efacb4527fa5",
   "metadata": {},
   "source": [
    "<h4> Submission </h4>\n",
    "\n",
    "Use the cells below for any computations you need to do, and a separate cell where you write your answers to each of the four questions above. Then export your notebook as a pdf and upload it to Gradescope under this week's Jupyter assignment."
   ]
  },
  {
   "cell_type": "code",
   "execution_count": 72,
   "id": "8331d460-271a-4ee1-9eb5-5ca9bc838a29",
   "metadata": {},
   "outputs": [],
   "source": [
    "# Add your code here"
   ]
  },
  {
   "cell_type": "markdown",
   "id": "085f047c-3e36-4471-a9f9-b439023a7a7a",
   "metadata": {},
   "source": [
    "*Add your answers here*"
   ]
  }
 ],
 "metadata": {
  "kernelspec": {
   "display_name": "Python 3 (ipykernel)",
   "language": "python",
   "name": "python3"
  },
  "language_info": {
   "codemirror_mode": {
    "name": "ipython",
    "version": 3
   },
   "file_extension": ".py",
   "mimetype": "text/x-python",
   "name": "python",
   "nbconvert_exporter": "python",
   "pygments_lexer": "ipython3",
   "version": "3.11.5"
  }
 },
 "nbformat": 4,
 "nbformat_minor": 5
}
