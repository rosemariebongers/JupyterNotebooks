{
 "cells": [
  {
   "cell_type": "markdown",
   "id": "d98d5624-b39a-4b89-a0ba-b176b0b1e40e",
   "metadata": {},
   "source": [
    "**Introduction: Simulation**\n",
    "\n",
    "One of the most powerful tools we have in understanding probability is to *simulate* an experiment many times on a computer. We can frequently run thousands or millions of trials and gather a large amount of data regarding the typical outcomes, the average behaviour or properties of a system, and more. In this notebook, you'll start to see how we can use simulation to gather some data. We'll explore a few experiments involving dice rolls."
   ]
  },
  {
   "cell_type": "markdown",
   "id": "c6f95808-0a18-42ad-80c8-69666e1cfd54",
   "metadata": {},
   "source": [
    "In this block, we'll roll a set of dice, average the rolls, and see what typical behaviour occurs. One way to \"roll a die\" numerically is to generate a random number between 0 and 1; then multiply it by 6 and round up to the next integer (we'll actually round down and add 1 because it's a bit easier to code...). Lots of things can be simulated this way, in fact! Generate a random number, choose a particular range of interest, and record a result."
   ]
  },
  {
   "cell_type": "code",
   "execution_count": 2,
   "id": "5e5a3078-f0ae-4a92-9302-6c948810cd5f",
   "metadata": {
    "tags": []
   },
   "outputs": [
    {
     "name": "stdout",
     "output_type": "stream",
     "text": [
      "[1, 3, 1, 5, 6, 2, 2, 4, 1, 2]\n"
     ]
    }
   ],
   "source": [
    "# Import the random number generator package \n",
    "from random import random\n",
    "\n",
    "# Roll one die with a prescribed number of sides\n",
    "def roll_die(num_sides):\n",
    "    roll = int(num_sides*random()) + 1\n",
    "    return roll\n",
    "\n",
    "# Do this for ten trials and store in a list\n",
    "rolls = []\n",
    "num_trials = 10\n",
    "\n",
    "for _ in range(num_trials):\n",
    "    rolls.append(roll_die(6))\n",
    "    \n",
    "# Print out the results\n",
    "print(rolls)"
   ]
  },
  {
   "cell_type": "markdown",
   "id": "fb937b05-fcc0-4589-82a1-c1c237e3fd21",
   "metadata": {},
   "source": [
    "This is just rolling one die ten times, so it's not particularly involved. But suppose we want to return to the first daily homework set, and figure out the probability that two dice add to $8$. We can simulate that here: "
   ]
  },
  {
   "cell_type": "code",
   "execution_count": 6,
   "id": "2877d5f7-3506-4432-8834-3b7c9727f053",
   "metadata": {
    "tags": []
   },
   "outputs": [
    {
     "name": "stdout",
     "output_type": "stream",
     "text": [
      "Probability of adding to 8: 0.1338\n"
     ]
    }
   ],
   "source": [
    "# Do 1000 trials of rolling two dice\n",
    "num_trials = 10000\n",
    "success = 0\n",
    "\n",
    "# Count the number of \"successes,\" i.e. that we get a sum of 8\n",
    "for _ in range(num_trials):\n",
    "    r1 = roll_die(6)\n",
    "    r2 = roll_die(6)\n",
    "\n",
    "    if r1 + r2 == 8:\n",
    "        success += 1\n",
    "        \n",
    "# Print the estimated probability of success: success / num_trials\n",
    "print(f'Probability of adding to 8: {success / num_trials}')"
   ]
  },
  {
   "cell_type": "markdown",
   "id": "2916163a-3abc-4e23-9cb1-7b76a4a44044",
   "metadata": {},
   "source": [
    "Running $10000$ trials, I had $1338$ successes -- for a probability of $0.1346$. On the other hand, you found that there are $5$ possible dice rolls out of the $36$ total which have a sum of $5$ (2-6, 3-5, 4-4, 5-3, and 6-2). This leads to a probability of $5/36 \\approx 0.139$; so not a bad estimate with only ten thousand trials!\n",
    "\n",
    "Let's make one last modification where we store every outcome and compute the probabilities of each. It's helpful for this part if you know what a [set](https://www.w3schools.com/python/python_sets.asp) is in Python; it's something that pairs a key (here, the value of the sum) with a value (how many times we counted it)."
   ]
  },
  {
   "cell_type": "code",
   "execution_count": 9,
   "id": "a357e1ae-6d10-42e0-b3d6-f4128fda83c9",
   "metadata": {},
   "outputs": [
    {
     "name": "stdout",
     "output_type": "stream",
     "text": [
      "Probability of summing to 2 = 0.0307\n",
      "Probability of summing to 3 = 0.0567\n",
      "Probability of summing to 4 = 0.0799\n",
      "Probability of summing to 5 = 0.111\n",
      "Probability of summing to 6 = 0.1392\n",
      "Probability of summing to 7 = 0.1604\n",
      "Probability of summing to 8 = 0.1382\n",
      "Probability of summing to 9 = 0.1097\n",
      "Probability of summing to 10 = 0.0876\n",
      "Probability of summing to 11 = 0.0575\n",
      "Probability of summing to 12 = 0.0291\n"
     ]
    }
   ],
   "source": [
    "# Do 1000 trials again\n",
    "num_trials = 10000\n",
    "\n",
    "# An easy way to store data is to make a set in Python.\n",
    "success = {r:0 for r in range(2, 13)} \n",
    "# This is equivalent to writing {2:0, 3:0, 4:0, ..., 12:0}\n",
    "\n",
    "for _ in range(num_trials):\n",
    "    r1 = roll_die(6)\n",
    "    r2 = roll_die(6)\n",
    "    s = r1 + r2\n",
    "\n",
    "    # Update the count of successes\n",
    "    success[s] += 1\n",
    "\n",
    "# Now print the results in a bit of a table:\n",
    "for _ in range(2, 13):\n",
    "    print(f'Probability of summing to {_} = {success[_] / num_trials}')"
   ]
  },
  {
   "cell_type": "markdown",
   "id": "dc80ab03-8de6-4327-b6d9-cfb789a61845",
   "metadata": {},
   "source": [
    "**Questions for you**: \n",
    "\n",
    "Answer the following questions; in your submission, include any new code that you wrote or modified.\n",
    "\n",
    "1) Run a few experiments with a small number of trials (on the order of 100). Run a few experiments with a large number of trials (like 100K or more). In which case do you see more variation in the experiment results? Is that what you expected?\n",
    "\n",
    "2) If you roll three dice instead, what is the most common sum?\n",
    "\n",
    "3) Let's change the experiment: roll two dice and multiply their values instead of adding. Make a table of the probabilities for each outcome in {1, 2, ..., 36}."
   ]
  }
 ],
 "metadata": {
  "kernelspec": {
   "display_name": "Python 3 (ipykernel)",
   "language": "python",
   "name": "python3"
  },
  "language_info": {
   "codemirror_mode": {
    "name": "ipython",
    "version": 3
   },
   "file_extension": ".py",
   "mimetype": "text/x-python",
   "name": "python",
   "nbconvert_exporter": "python",
   "pygments_lexer": "ipython3",
   "version": "3.11.5"
  }
 },
 "nbformat": 4,
 "nbformat_minor": 5
}
